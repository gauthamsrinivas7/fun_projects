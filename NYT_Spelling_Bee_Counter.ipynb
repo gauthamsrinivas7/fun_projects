import os

def count_seven_unique_letter_words(filepath):
    """
    Counts the number of words in a file that contain exactly 7 unique letters.

    Args:
        filepath (str): The path to the input file containing one word per line.

    Returns:
        int: The number of words with 7 unique letters, or None if the file is not found.
    """
    # Check if the file exists before trying to open it.
    if not os.path.exists(filepath):
        print(f"Error: The file '{filepath}' was not found.")
        return None

    # Initialize a counter for words that meet the criteria.
    seven_unique_letter_word_count = 0
    unique_puzzles = set('')

    try:
        # Use 'with open' to ensure the file is automatically closed.
        # Specify UTF-8 encoding for broad compatibility with text files.
        with open(filepath, 'r', encoding='utf-8') as f:
            # Process each line (word) in the file.
            for line in f:
                # 1. Strip leading/trailing whitespace (like the newline character '\n').
                # 2. Convert to lowercase to ensure case-insensitivity (e.g., 'A' and 'a' are the same letter).
                word = line.strip().lower()
                word = word.replace('"','')

                if "s" in word:
                  continue
                # Skip empty lines.
                if not word:
                    continue

                # 3. Create a set of the characters in the word to get only the unique letters.
                unique_letters = set(word)


                # 4. Check if the number of unique letters is exactly 7.
                if len(unique_letters) == 7:
                    seven_unique_letter_word_count += 1
                    #add unique combinations of 7 letters to set
                    unique_puzzles.add(''.join(sorted(unique_letters)))
                    # Optional: print the words that match.
                    # print(f"Found a match: {word}")

    except Exception as e:
        print(f"An error occurred while processing the file: {e}")
        return None

    return 7*len(unique_puzzles)

# --- Main execution block ---
if __name__ == "__main__":
    # Define the name of the input file.
    # Make sure this file is in the same directory as the script,
    # or provide the full path to the file.
    input_filename = "words.txt"

    print(f"Analyzing file: {input_filename}")

    # Call the function and get the result.
    count = count_seven_unique_letter_words(input_filename)

    # Print the final result if the function executed successfully.
    if count is not None:
        print("-" * 30)
        print(f"Total words with exactly 7 unique letters: {count}")
        print("-" * 30)
     
