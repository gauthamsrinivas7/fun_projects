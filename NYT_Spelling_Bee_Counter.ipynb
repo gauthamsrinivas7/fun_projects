{
  "cells": [
    {
      "cell_type": "markdown",
      "metadata": {
        "id": "view-in-github",
        "colab_type": "text"
      },
      "source": [
        "<a href=\"https://colab.research.google.com/github/gauthamsrinivas7/fun_projects/blob/main/Python_7_Unique_Letter_Word_Counter.ipynb\" target=\"_parent\"><img src=\"https://colab.research.google.com/assets/colab-badge.svg\" alt=\"Open In Colab\"/></a>"
      ]
    },
    {
      "cell_type": "code",
      "source": [
        "import os\n",
        "\n",
        "def count_seven_unique_letter_words(filepath):\n",
        "    \"\"\"\n",
        "    Counts the number of words in a file that contain exactly 7 unique letters.\n",
        "\n",
        "    Args:\n",
        "        filepath (str): The path to the input file containing one word per line.\n",
        "\n",
        "    Returns:\n",
        "        int: The number of words with 7 unique letters, or None if the file is not found.\n",
        "    \"\"\"\n",
        "    # Check if the file exists before trying to open it.\n",
        "    if not os.path.exists(filepath):\n",
        "        print(f\"Error: The file '{filepath}' was not found.\")\n",
        "        return None\n",
        "\n",
        "    # Initialize a counter for words that meet the criteria.\n",
        "    seven_unique_letter_word_count = 0\n",
        "    unique_puzzles = set('')\n",
        "\n",
        "    try:\n",
        "        # Use 'with open' to ensure the file is automatically closed.\n",
        "        # Specify UTF-8 encoding for broad compatibility with text files.\n",
        "        with open(filepath, 'r', encoding='utf-8') as f:\n",
        "            # Process each line (word) in the file.\n",
        "            for line in f:\n",
        "                # 1. Strip leading/trailing whitespace (like the newline character '\\n').\n",
        "                # 2. Convert to lowercase to ensure case-insensitivity (e.g., 'A' and 'a' are the same letter).\n",
        "                word = line.strip().lower()\n",
        "                word = word.replace('\"','')\n",
        "\n",
        "                if \"s\" in word:\n",
        "                  continue\n",
        "                # Skip empty lines.\n",
        "                if not word:\n",
        "                    continue\n",
        "\n",
        "                # 3. Create a set of the characters in the word to get only the unique letters.\n",
        "                unique_letters = set(word)\n",
        "\n",
        "\n",
        "                # 4. Check if the number of unique letters is exactly 7.\n",
        "                if len(unique_letters) == 7:\n",
        "                    seven_unique_letter_word_count += 1\n",
        "                    #add unique combinations of 7 letters to set\n",
        "                    unique_puzzles.add(''.join(sorted(unique_letters)))\n",
        "                    # Optional: print the words that match.\n",
        "                    # print(f\"Found a match: {word}\")\n",
        "\n",
        "    except Exception as e:\n",
        "        print(f\"An error occurred while processing the file: {e}\")\n",
        "        return None\n",
        "\n",
        "    return 7*len(unique_puzzles)\n",
        "\n",
        "# --- Main execution block ---\n",
        "if __name__ == \"__main__\":\n",
        "    # Define the name of the input file.\n",
        "    # Make sure this file is in the same directory as the script,\n",
        "    # or provide the full path to the file.\n",
        "    input_filename = \"words.txt\"\n",
        "\n",
        "    print(f\"Analyzing file: {input_filename}\")\n",
        "\n",
        "    # Call the function and get the result.\n",
        "    count = count_seven_unique_letter_words(input_filename)\n",
        "\n",
        "    # Print the final result if the function executed successfully.\n",
        "    if count is not None:\n",
        "        print(\"-\" * 30)\n",
        "        print(f\"Total words with exactly 7 unique letters: {count}\")\n",
        "        print(\"-\" * 30)"
      ],
      "outputs": [
        {
          "output_type": "stream",
          "name": "stdout",
          "text": [
            "Analyzing file: words.txt\n",
            "------------------------------\n",
            "Total words with exactly 7 unique letters: 119609\n",
            "------------------------------\n"
          ]
        }
      ],
      "execution_count": null,
      "metadata": {
        "colab": {
          "base_uri": "https://localhost:8080/"
        },
        "id": "FcVBnvDzLKYe",
        "outputId": "57e1c6f7-adb8-41d2-ee9b-93f83178398d"
      }
    }
  ],
  "metadata": {
    "colab": {
      "provenance": [],
      "include_colab_link": true
    },
    "kernelspec": {
      "display_name": "Python 3",
      "name": "python3"
    }
  },
  "nbformat": 4,
  "nbformat_minor": 0
}
